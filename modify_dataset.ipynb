{
 "cells": [
  {
   "cell_type": "code",
   "execution_count": 2,
   "metadata": {},
   "outputs": [],
   "source": [
    "import json\n",
    "import os\n",
    "\n",
    "# 디렉토리 경로 설정\n",
    "directory = './dataset/yolo_dataset/ai_hub_data/labels_json'\n",
    "modify_directory = './dataset/yolo_dataset/modify_data/labels'\n",
    "\n",
    "# 테스트를 위한 최대 저장개수 설정\n",
    "file_count = 0\n",
    "max_files = 10\n",
    "\n",
    "# object 목록\n",
    "class_index = {0: '하의', 1: '원피스', 2: '상의', 3: '아우터'}\n",
    "\n",
    "# json파일의 렉트좌표를 yolo label 형식으로 변경하는 함수\n",
    "def bbox_ratio(data, idx):\n",
    "    img_width = data['이미지 정보']['이미지 너비']\n",
    "    img_height = data['이미지 정보']['이미지 높이']\n",
    "    xy = data['데이터셋 정보']['데이터셋 상세설명'].get('렉트좌표', None)\n",
    "    \n",
    "    x1 = round(xy[idx][0]['X좌표'] / img_width, 5)\n",
    "    y1 = round(xy[idx][0]['Y좌표'] / img_height, 5)\n",
    "    x2 = round(xy[idx][0]['가로'] / img_width, 5)\n",
    "    y2 = round(xy[idx][0]['세로'] / img_height, 5)\n",
    "\n",
    "    return x1, y1, x2, y2\n",
    "\n",
    "# 디렉토리에 있는 json 파일을 하나씩 확인\n",
    "for filename in os.listdir(directory):\n",
    "    if filename.endswith('.json'):\n",
    "        filepath = os.path.join(directory, filename)\n",
    "        with open(filepath, 'r', encoding='utf-8') as f:\n",
    "            json_data = json.load(f)\n",
    "\n",
    "            # '데이터셋 정보'가 있을때\n",
    "            if '데이터셋 정보' in json_data: \n",
    "                # filename에서 '.json' 제외해주기\n",
    "                file_number = filename[:-5]\n",
    "                # 렉트좌표값 가져오기\n",
    "                xy = json_data['데이터셋 정보']['데이터셋 상세설명'].get('렉트좌표', None)\n",
    "\n",
    "                # 아우터가 포함되지 않았을 때\n",
    "                if len(xy['아우터'][0]) == 0:\n",
    "                    file_count += 1\n",
    "                    # yolo label 데이터를 저장할 txt파일 경로\n",
    "                    modify_file_path = modify_directory + str(file_number) + '.txt'\n",
    "                    with open(modify_file_path, 'w', encoding='utf-8') as fw:\n",
    "                        # 하의, 원피스, 상의 중 어떤 객체가 있는지 확인\n",
    "                        for i in range(3):\n",
    "                            if len(xy[class_index[i]][0]) != 0:\n",
    "                                bbox = bbox_ratio(json_data, class_index[i])\n",
    "                                fw.write(str(i) + ' ')\n",
    "                                for j in bbox:\n",
    "                                    fw.write(str(j) + ' ')\n",
    "                                fw.write(\"\\n\")\n",
    "                            \n",
    "    if file_count >= max_files:\n",
    "        break"
   ]
  },
  {
   "cell_type": "code",
   "execution_count": null,
   "metadata": {},
   "outputs": [],
   "source": []
  }
 ],
 "metadata": {
  "kernelspec": {
   "display_name": "Python 3",
   "language": "python",
   "name": "python3"
  },
  "language_info": {
   "codemirror_mode": {
    "name": "ipython",
    "version": 3
   },
   "file_extension": ".py",
   "mimetype": "text/x-python",
   "name": "python",
   "nbconvert_exporter": "python",
   "pygments_lexer": "ipython3",
   "version": "3.11.8"
  }
 },
 "nbformat": 4,
 "nbformat_minor": 2
}
