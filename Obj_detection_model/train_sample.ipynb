{
 "cells": [
  {
   "cell_type": "code",
   "execution_count": 1,
   "metadata": {},
   "outputs": [
    {
     "name": "stdout",
     "output_type": "stream",
     "text": [
      "Requirement already satisfied: opencv-python in c:\\users\\ino\\anaconda3\\envs\\rpa_proj\\lib\\site-packages (4.10.0.84)\n",
      "Requirement already satisfied: numpy>=1.21.2 in c:\\users\\ino\\anaconda3\\envs\\rpa_proj\\lib\\site-packages (from opencv-python) (1.26.4)\n"
     ]
    }
   ],
   "source": [
    "#!pip install opencv-python"
   ]
  },
  {
   "cell_type": "code",
   "execution_count": 11,
   "metadata": {},
   "outputs": [
    {
     "name": "stdout",
     "output_type": "stream",
     "text": [
      "Requirement already satisfied: gitpython>=3.1.30 in c:\\users\\ino\\anaconda3\\envs\\rpa_proj\\lib\\site-packages (from -r requirements.txt (line 5)) (3.1.43)\n",
      "Requirement already satisfied: matplotlib>=3.3 in c:\\users\\ino\\anaconda3\\envs\\rpa_proj\\lib\\site-packages (from -r requirements.txt (line 6)) (3.9.1)\n",
      "Requirement already satisfied: numpy>=1.23.5 in c:\\users\\ino\\anaconda3\\envs\\rpa_proj\\lib\\site-packages (from -r requirements.txt (line 7)) (1.26.4)\n",
      "Requirement already satisfied: opencv-python>=4.1.1 in c:\\users\\ino\\anaconda3\\envs\\rpa_proj\\lib\\site-packages (from -r requirements.txt (line 8)) (4.10.0.84)\n",
      "Requirement already satisfied: pillow>=10.3.0 in c:\\users\\ino\\anaconda3\\envs\\rpa_proj\\lib\\site-packages (from -r requirements.txt (line 9)) (10.4.0)\n",
      "Requirement already satisfied: psutil in c:\\users\\ino\\anaconda3\\envs\\rpa_proj\\lib\\site-packages (from -r requirements.txt (line 10)) (6.0.0)\n",
      "Requirement already satisfied: PyYAML>=5.3.1 in c:\\users\\ino\\anaconda3\\envs\\rpa_proj\\lib\\site-packages (from -r requirements.txt (line 11)) (6.0.1)\n",
      "Requirement already satisfied: requests>=2.32.0 in c:\\users\\ino\\anaconda3\\envs\\rpa_proj\\lib\\site-packages (from -r requirements.txt (line 12)) (2.32.3)\n",
      "Requirement already satisfied: scipy>=1.4.1 in c:\\users\\ino\\anaconda3\\envs\\rpa_proj\\lib\\site-packages (from -r requirements.txt (line 13)) (1.14.0)\n",
      "Requirement already satisfied: thop>=0.1.1 in c:\\users\\ino\\anaconda3\\envs\\rpa_proj\\lib\\site-packages (from -r requirements.txt (line 14)) (0.1.1.post2209072238)\n",
      "Requirement already satisfied: torch>=1.8.0 in c:\\users\\ino\\anaconda3\\envs\\rpa_proj\\lib\\site-packages (from -r requirements.txt (line 15)) (2.4.0)\n",
      "Requirement already satisfied: torchvision>=0.9.0 in c:\\users\\ino\\anaconda3\\envs\\rpa_proj\\lib\\site-packages (from -r requirements.txt (line 16)) (0.19.0)\n",
      "Requirement already satisfied: tqdm>=4.64.0 in c:\\users\\ino\\anaconda3\\envs\\rpa_proj\\lib\\site-packages (from -r requirements.txt (line 17)) (4.66.4)\n",
      "Requirement already satisfied: ultralytics>=8.2.34 in c:\\users\\ino\\anaconda3\\envs\\rpa_proj\\lib\\site-packages (from -r requirements.txt (line 18)) (8.2.70)\n",
      "Requirement already satisfied: pandas>=1.1.4 in c:\\users\\ino\\anaconda3\\envs\\rpa_proj\\lib\\site-packages (from -r requirements.txt (line 27)) (2.2.2)\n",
      "Requirement already satisfied: seaborn>=0.11.0 in c:\\users\\ino\\anaconda3\\envs\\rpa_proj\\lib\\site-packages (from -r requirements.txt (line 28)) (0.13.2)\n",
      "Requirement already satisfied: setuptools>=70.0.0 in c:\\users\\ino\\anaconda3\\envs\\rpa_proj\\lib\\site-packages (from -r requirements.txt (line 42)) (72.1.0)\n",
      "Requirement already satisfied: gitdb<5,>=4.0.1 in c:\\users\\ino\\anaconda3\\envs\\rpa_proj\\lib\\site-packages (from gitpython>=3.1.30->-r requirements.txt (line 5)) (4.0.11)\n",
      "Requirement already satisfied: contourpy>=1.0.1 in c:\\users\\ino\\anaconda3\\envs\\rpa_proj\\lib\\site-packages (from matplotlib>=3.3->-r requirements.txt (line 6)) (1.2.1)\n",
      "Requirement already satisfied: cycler>=0.10 in c:\\users\\ino\\anaconda3\\envs\\rpa_proj\\lib\\site-packages (from matplotlib>=3.3->-r requirements.txt (line 6)) (0.12.1)\n",
      "Requirement already satisfied: fonttools>=4.22.0 in c:\\users\\ino\\anaconda3\\envs\\rpa_proj\\lib\\site-packages (from matplotlib>=3.3->-r requirements.txt (line 6)) (4.53.1)\n",
      "Requirement already satisfied: kiwisolver>=1.3.1 in c:\\users\\ino\\anaconda3\\envs\\rpa_proj\\lib\\site-packages (from matplotlib>=3.3->-r requirements.txt (line 6)) (1.4.5)\n",
      "Requirement already satisfied: packaging>=20.0 in c:\\users\\ino\\anaconda3\\envs\\rpa_proj\\lib\\site-packages (from matplotlib>=3.3->-r requirements.txt (line 6)) (24.1)\n",
      "Requirement already satisfied: pyparsing>=2.3.1 in c:\\users\\ino\\anaconda3\\envs\\rpa_proj\\lib\\site-packages (from matplotlib>=3.3->-r requirements.txt (line 6)) (3.1.2)\n",
      "Requirement already satisfied: python-dateutil>=2.7 in c:\\users\\ino\\anaconda3\\envs\\rpa_proj\\lib\\site-packages (from matplotlib>=3.3->-r requirements.txt (line 6)) (2.9.0)\n",
      "Requirement already satisfied: charset-normalizer<4,>=2 in c:\\users\\ino\\anaconda3\\envs\\rpa_proj\\lib\\site-packages (from requests>=2.32.0->-r requirements.txt (line 12)) (3.3.2)\n",
      "Requirement already satisfied: idna<4,>=2.5 in c:\\users\\ino\\anaconda3\\envs\\rpa_proj\\lib\\site-packages (from requests>=2.32.0->-r requirements.txt (line 12)) (3.7)\n",
      "Requirement already satisfied: urllib3<3,>=1.21.1 in c:\\users\\ino\\anaconda3\\envs\\rpa_proj\\lib\\site-packages (from requests>=2.32.0->-r requirements.txt (line 12)) (2.2.2)\n",
      "Requirement already satisfied: certifi>=2017.4.17 in c:\\users\\ino\\anaconda3\\envs\\rpa_proj\\lib\\site-packages (from requests>=2.32.0->-r requirements.txt (line 12)) (2024.7.4)\n",
      "Requirement already satisfied: filelock in c:\\users\\ino\\anaconda3\\envs\\rpa_proj\\lib\\site-packages (from torch>=1.8.0->-r requirements.txt (line 15)) (3.15.4)\n",
      "Requirement already satisfied: typing-extensions>=4.8.0 in c:\\users\\ino\\anaconda3\\envs\\rpa_proj\\lib\\site-packages (from torch>=1.8.0->-r requirements.txt (line 15)) (4.12.2)\n",
      "Requirement already satisfied: sympy in c:\\users\\ino\\anaconda3\\envs\\rpa_proj\\lib\\site-packages (from torch>=1.8.0->-r requirements.txt (line 15)) (1.13.1)\n",
      "Requirement already satisfied: networkx in c:\\users\\ino\\anaconda3\\envs\\rpa_proj\\lib\\site-packages (from torch>=1.8.0->-r requirements.txt (line 15)) (3.3)\n",
      "Requirement already satisfied: jinja2 in c:\\users\\ino\\anaconda3\\envs\\rpa_proj\\lib\\site-packages (from torch>=1.8.0->-r requirements.txt (line 15)) (3.1.4)\n",
      "Requirement already satisfied: fsspec in c:\\users\\ino\\anaconda3\\envs\\rpa_proj\\lib\\site-packages (from torch>=1.8.0->-r requirements.txt (line 15)) (2024.6.1)\n",
      "Requirement already satisfied: colorama in c:\\users\\ino\\anaconda3\\envs\\rpa_proj\\lib\\site-packages (from tqdm>=4.64.0->-r requirements.txt (line 17)) (0.4.6)\n",
      "Requirement already satisfied: py-cpuinfo in c:\\users\\ino\\anaconda3\\envs\\rpa_proj\\lib\\site-packages (from ultralytics>=8.2.34->-r requirements.txt (line 18)) (9.0.0)\n",
      "Requirement already satisfied: ultralytics-thop>=2.0.0 in c:\\users\\ino\\anaconda3\\envs\\rpa_proj\\lib\\site-packages (from ultralytics>=8.2.34->-r requirements.txt (line 18)) (2.0.0)\n",
      "Requirement already satisfied: pytz>=2020.1 in c:\\users\\ino\\anaconda3\\envs\\rpa_proj\\lib\\site-packages (from pandas>=1.1.4->-r requirements.txt (line 27)) (2024.1)\n",
      "Requirement already satisfied: tzdata>=2022.7 in c:\\users\\ino\\anaconda3\\envs\\rpa_proj\\lib\\site-packages (from pandas>=1.1.4->-r requirements.txt (line 27)) (2024.1)\n",
      "Requirement already satisfied: smmap<6,>=3.0.1 in c:\\users\\ino\\anaconda3\\envs\\rpa_proj\\lib\\site-packages (from gitdb<5,>=4.0.1->gitpython>=3.1.30->-r requirements.txt (line 5)) (5.0.1)\n",
      "Requirement already satisfied: six>=1.5 in c:\\users\\ino\\anaconda3\\envs\\rpa_proj\\lib\\site-packages (from python-dateutil>=2.7->matplotlib>=3.3->-r requirements.txt (line 6)) (1.16.0)\n",
      "Requirement already satisfied: MarkupSafe>=2.0 in c:\\users\\ino\\anaconda3\\envs\\rpa_proj\\lib\\site-packages (from jinja2->torch>=1.8.0->-r requirements.txt (line 15)) (2.1.5)\n",
      "Requirement already satisfied: mpmath<1.4,>=1.1.0 in c:\\users\\ino\\anaconda3\\envs\\rpa_proj\\lib\\site-packages (from sympy->torch>=1.8.0->-r requirements.txt (line 15)) (1.3.0)\n"
     ]
    }
   ],
   "source": [
    "!pip install -r requirements.txt "
   ]
  },
  {
   "cell_type": "code",
   "execution_count": 14,
   "metadata": {},
   "outputs": [
    {
     "ename": "OSError",
     "evalue": "[WinError 126] 지정된 모듈을 찾을 수 없습니다. Error loading \"c:\\Users\\Ino\\anaconda3\\envs\\RPA_proj\\Lib\\site-packages\\torch\\lib\\fbgemm.dll\" or one of its dependencies.",
     "output_type": "error",
     "traceback": [
      "\u001b[1;31m---------------------------------------------------------------------------\u001b[0m",
      "\u001b[1;31mOSError\u001b[0m                                   Traceback (most recent call last)",
      "Cell \u001b[1;32mIn[14], line 3\u001b[0m\n\u001b[0;32m      1\u001b[0m \u001b[38;5;28;01mimport\u001b[39;00m \u001b[38;5;21;01mcv2\u001b[39;00m\n\u001b[0;32m      2\u001b[0m \u001b[38;5;28;01mimport\u001b[39;00m \u001b[38;5;21;01mnumpy\u001b[39;00m \u001b[38;5;28;01mas\u001b[39;00m \u001b[38;5;21;01mnp\u001b[39;00m\n\u001b[1;32m----> 3\u001b[0m \u001b[38;5;28;01mimport\u001b[39;00m \u001b[38;5;21;01mtorch\u001b[39;00m \u001b[38;5;28;01mas\u001b[39;00m \u001b[38;5;21;01mnn\u001b[39;00m\n",
      "File \u001b[1;32mc:\\Users\\Ino\\anaconda3\\envs\\RPA_proj\\Lib\\site-packages\\torch\\__init__.py:148\u001b[0m\n\u001b[0;32m    146\u001b[0m                 err \u001b[38;5;241m=\u001b[39m ctypes\u001b[38;5;241m.\u001b[39mWinError(ctypes\u001b[38;5;241m.\u001b[39mget_last_error())\n\u001b[0;32m    147\u001b[0m                 err\u001b[38;5;241m.\u001b[39mstrerror \u001b[38;5;241m+\u001b[39m\u001b[38;5;241m=\u001b[39m \u001b[38;5;124mf\u001b[39m\u001b[38;5;124m'\u001b[39m\u001b[38;5;124m Error loading \u001b[39m\u001b[38;5;124m\"\u001b[39m\u001b[38;5;132;01m{\u001b[39;00mdll\u001b[38;5;132;01m}\u001b[39;00m\u001b[38;5;124m\"\u001b[39m\u001b[38;5;124m or one of its dependencies.\u001b[39m\u001b[38;5;124m'\u001b[39m\n\u001b[1;32m--> 148\u001b[0m                 \u001b[38;5;28;01mraise\u001b[39;00m err\n\u001b[0;32m    150\u001b[0m     kernel32\u001b[38;5;241m.\u001b[39mSetErrorMode(prev_error_mode)\n\u001b[0;32m    153\u001b[0m \u001b[38;5;28;01mdef\u001b[39;00m \u001b[38;5;21m_preload_cuda_deps\u001b[39m(lib_folder, lib_name):\n",
      "\u001b[1;31mOSError\u001b[0m: [WinError 126] 지정된 모듈을 찾을 수 없습니다. Error loading \"c:\\Users\\Ino\\anaconda3\\envs\\RPA_proj\\Lib\\site-packages\\torch\\lib\\fbgemm.dll\" or one of its dependencies."
     ]
    }
   ],
   "source": [
    "import cv2\n",
    "import numpy as np\n",
    "import torch as nn"
   ]
  },
  {
   "cell_type": "code",
   "execution_count": 10,
   "metadata": {},
   "outputs": [
    {
     "data": {
      "text/plain": [
       "'c:\\\\Dev\\\\RPA_proj_main\\\\Obj_detection_model\\\\yolov5'"
      ]
     },
     "execution_count": 10,
     "metadata": {},
     "output_type": "execute_result"
    }
   ],
   "source": [
    "#%cd yolov5\n",
    "%pwd"
   ]
  },
  {
   "cell_type": "code",
   "execution_count": 19,
   "metadata": {},
   "outputs": [
    {
     "name": "stderr",
     "output_type": "stream",
     "text": [
      "\u001b[34m\u001b[1mdetect: \u001b[0mweights=['yolov5s.pt'], source=/data/detection_sample, data=data\\coco128.yaml, imgsz=[640, 640], conf_thres=0.25, iou_thres=0.45, max_det=1000, device=, view_img=False, save_txt=False, save_csv=False, save_conf=False, save_crop=False, nosave=False, classes=None, agnostic_nms=False, augment=False, visualize=False, update=False, project=runs\\detect, name=exp, exist_ok=False, line_thickness=3, hide_labels=False, hide_conf=False, half=False, dnn=False, vid_stride=1\n",
      "YOLOv5  2024-7-31 Python-3.11.8 torch-2.4.0+cpu CPU\n",
      "\n",
      "Fusing layers... \n",
      "YOLOv5s summary: 213 layers, 7225885 parameters, 0 gradients, 16.4 GFLOPs\n",
      "Traceback (most recent call last):\n",
      "  File \"c:\\Dev\\RPA_proj_main\\Obj_detection_model\\yolov5\\detect.py\", line 425, in <module>\n",
      "    main(opt)\n",
      "  File \"c:\\Dev\\RPA_proj_main\\Obj_detection_model\\yolov5\\detect.py\", line 420, in main\n",
      "    run(**vars(opt))\n",
      "  File \"c:\\Users\\Ino\\anaconda3\\envs\\RPA_proj\\Lib\\site-packages\\torch\\utils\\_contextlib.py\", line 116, in decorate_context\n",
      "    return func(*args, **kwargs)\n",
      "           ^^^^^^^^^^^^^^^^^^^^^\n",
      "  File \"c:\\Dev\\RPA_proj_main\\Obj_detection_model\\yolov5\\detect.py\", line 178, in run\n",
      "    dataset = LoadImages(source, img_size=imgsz, stride=stride, auto=pt, vid_stride=vid_stride)\n",
      "              ^^^^^^^^^^^^^^^^^^^^^^^^^^^^^^^^^^^^^^^^^^^^^^^^^^^^^^^^^^^^^^^^^^^^^^^^^^^^^^^^^\n",
      "  File \"c:\\Dev\\RPA_proj_main\\Obj_detection_model\\yolov5\\utils\\dataloaders.py\", line 335, in __init__\n",
      "    raise FileNotFoundError(f\"{p} does not exist\")\n",
      "FileNotFoundError: C:\\data\\detection_sample does not exist\n"
     ]
    }
   ],
   "source": [
    "!python detect.py --weight yolov5s.pt --source ../../dataset/detection_sample/"
   ]
  }
 ],
 "metadata": {
  "kernelspec": {
   "display_name": "RPA_proj",
   "language": "python",
   "name": "python3"
  },
  "language_info": {
   "codemirror_mode": {
    "name": "ipython",
    "version": 3
   },
   "file_extension": ".py",
   "mimetype": "text/x-python",
   "name": "python",
   "nbconvert_exporter": "python",
   "pygments_lexer": "ipython3",
   "version": "3.11.8"
  }
 },
 "nbformat": 4,
 "nbformat_minor": 2
}
