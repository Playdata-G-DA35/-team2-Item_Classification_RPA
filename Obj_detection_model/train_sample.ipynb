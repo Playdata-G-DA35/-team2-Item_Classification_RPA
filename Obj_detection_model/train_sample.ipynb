{
 "cells": [
  {
   "cell_type": "code",
   "execution_count": 1,
   "metadata": {},
   "outputs": [
    {
     "name": "stdout",
     "output_type": "stream",
     "text": [
      "Requirement already satisfied: opencv-python in c:\\users\\ino\\anaconda3\\envs\\rpa_proj\\lib\\site-packages (4.10.0.84)\n",
      "Requirement already satisfied: numpy>=1.21.2 in c:\\users\\ino\\anaconda3\\envs\\rpa_proj\\lib\\site-packages (from opencv-python) (1.26.4)\n"
     ]
    }
   ],
   "source": [
    "#!pip install opencv-python"
   ]
  },
  {
   "cell_type": "code",
   "execution_count": 11,
   "metadata": {},
   "outputs": [
    {
     "name": "stdout",
     "output_type": "stream",
     "text": [
      "Requirement already satisfied: gitpython>=3.1.30 in c:\\users\\ino\\anaconda3\\envs\\rpa_proj\\lib\\site-packages (from -r requirements.txt (line 5)) (3.1.43)\n",
      "Requirement already satisfied: matplotlib>=3.3 in c:\\users\\ino\\anaconda3\\envs\\rpa_proj\\lib\\site-packages (from -r requirements.txt (line 6)) (3.9.1)\n",
      "Requirement already satisfied: numpy>=1.23.5 in c:\\users\\ino\\anaconda3\\envs\\rpa_proj\\lib\\site-packages (from -r requirements.txt (line 7)) (1.26.4)\n",
      "Requirement already satisfied: opencv-python>=4.1.1 in c:\\users\\ino\\anaconda3\\envs\\rpa_proj\\lib\\site-packages (from -r requirements.txt (line 8)) (4.10.0.84)\n",
      "Requirement already satisfied: pillow>=10.3.0 in c:\\users\\ino\\anaconda3\\envs\\rpa_proj\\lib\\site-packages (from -r requirements.txt (line 9)) (10.4.0)\n",
      "Requirement already satisfied: psutil in c:\\users\\ino\\anaconda3\\envs\\rpa_proj\\lib\\site-packages (from -r requirements.txt (line 10)) (6.0.0)\n",
      "Requirement already satisfied: PyYAML>=5.3.1 in c:\\users\\ino\\anaconda3\\envs\\rpa_proj\\lib\\site-packages (from -r requirements.txt (line 11)) (6.0.1)\n",
      "Requirement already satisfied: requests>=2.32.0 in c:\\users\\ino\\anaconda3\\envs\\rpa_proj\\lib\\site-packages (from -r requirements.txt (line 12)) (2.32.3)\n",
      "Requirement already satisfied: scipy>=1.4.1 in c:\\users\\ino\\anaconda3\\envs\\rpa_proj\\lib\\site-packages (from -r requirements.txt (line 13)) (1.14.0)\n",
      "Requirement already satisfied: thop>=0.1.1 in c:\\users\\ino\\anaconda3\\envs\\rpa_proj\\lib\\site-packages (from -r requirements.txt (line 14)) (0.1.1.post2209072238)\n",
      "Requirement already satisfied: torch>=1.8.0 in c:\\users\\ino\\anaconda3\\envs\\rpa_proj\\lib\\site-packages (from -r requirements.txt (line 15)) (2.4.0)\n",
      "Requirement already satisfied: torchvision>=0.9.0 in c:\\users\\ino\\anaconda3\\envs\\rpa_proj\\lib\\site-packages (from -r requirements.txt (line 16)) (0.19.0)\n",
      "Requirement already satisfied: tqdm>=4.64.0 in c:\\users\\ino\\anaconda3\\envs\\rpa_proj\\lib\\site-packages (from -r requirements.txt (line 17)) (4.66.4)\n",
      "Requirement already satisfied: ultralytics>=8.2.34 in c:\\users\\ino\\anaconda3\\envs\\rpa_proj\\lib\\site-packages (from -r requirements.txt (line 18)) (8.2.70)\n",
      "Requirement already satisfied: pandas>=1.1.4 in c:\\users\\ino\\anaconda3\\envs\\rpa_proj\\lib\\site-packages (from -r requirements.txt (line 27)) (2.2.2)\n",
      "Requirement already satisfied: seaborn>=0.11.0 in c:\\users\\ino\\anaconda3\\envs\\rpa_proj\\lib\\site-packages (from -r requirements.txt (line 28)) (0.13.2)\n",
      "Requirement already satisfied: setuptools>=70.0.0 in c:\\users\\ino\\anaconda3\\envs\\rpa_proj\\lib\\site-packages (from -r requirements.txt (line 42)) (72.1.0)\n",
      "Requirement already satisfied: gitdb<5,>=4.0.1 in c:\\users\\ino\\anaconda3\\envs\\rpa_proj\\lib\\site-packages (from gitpython>=3.1.30->-r requirements.txt (line 5)) (4.0.11)\n",
      "Requirement already satisfied: contourpy>=1.0.1 in c:\\users\\ino\\anaconda3\\envs\\rpa_proj\\lib\\site-packages (from matplotlib>=3.3->-r requirements.txt (line 6)) (1.2.1)\n",
      "Requirement already satisfied: cycler>=0.10 in c:\\users\\ino\\anaconda3\\envs\\rpa_proj\\lib\\site-packages (from matplotlib>=3.3->-r requirements.txt (line 6)) (0.12.1)\n",
      "Requirement already satisfied: fonttools>=4.22.0 in c:\\users\\ino\\anaconda3\\envs\\rpa_proj\\lib\\site-packages (from matplotlib>=3.3->-r requirements.txt (line 6)) (4.53.1)\n",
      "Requirement already satisfied: kiwisolver>=1.3.1 in c:\\users\\ino\\anaconda3\\envs\\rpa_proj\\lib\\site-packages (from matplotlib>=3.3->-r requirements.txt (line 6)) (1.4.5)\n",
      "Requirement already satisfied: packaging>=20.0 in c:\\users\\ino\\anaconda3\\envs\\rpa_proj\\lib\\site-packages (from matplotlib>=3.3->-r requirements.txt (line 6)) (24.1)\n",
      "Requirement already satisfied: pyparsing>=2.3.1 in c:\\users\\ino\\anaconda3\\envs\\rpa_proj\\lib\\site-packages (from matplotlib>=3.3->-r requirements.txt (line 6)) (3.1.2)\n",
      "Requirement already satisfied: python-dateutil>=2.7 in c:\\users\\ino\\anaconda3\\envs\\rpa_proj\\lib\\site-packages (from matplotlib>=3.3->-r requirements.txt (line 6)) (2.9.0)\n",
      "Requirement already satisfied: charset-normalizer<4,>=2 in c:\\users\\ino\\anaconda3\\envs\\rpa_proj\\lib\\site-packages (from requests>=2.32.0->-r requirements.txt (line 12)) (3.3.2)\n",
      "Requirement already satisfied: idna<4,>=2.5 in c:\\users\\ino\\anaconda3\\envs\\rpa_proj\\lib\\site-packages (from requests>=2.32.0->-r requirements.txt (line 12)) (3.7)\n",
      "Requirement already satisfied: urllib3<3,>=1.21.1 in c:\\users\\ino\\anaconda3\\envs\\rpa_proj\\lib\\site-packages (from requests>=2.32.0->-r requirements.txt (line 12)) (2.2.2)\n",
      "Requirement already satisfied: certifi>=2017.4.17 in c:\\users\\ino\\anaconda3\\envs\\rpa_proj\\lib\\site-packages (from requests>=2.32.0->-r requirements.txt (line 12)) (2024.7.4)\n",
      "Requirement already satisfied: filelock in c:\\users\\ino\\anaconda3\\envs\\rpa_proj\\lib\\site-packages (from torch>=1.8.0->-r requirements.txt (line 15)) (3.15.4)\n",
      "Requirement already satisfied: typing-extensions>=4.8.0 in c:\\users\\ino\\anaconda3\\envs\\rpa_proj\\lib\\site-packages (from torch>=1.8.0->-r requirements.txt (line 15)) (4.12.2)\n",
      "Requirement already satisfied: sympy in c:\\users\\ino\\anaconda3\\envs\\rpa_proj\\lib\\site-packages (from torch>=1.8.0->-r requirements.txt (line 15)) (1.13.1)\n",
      "Requirement already satisfied: networkx in c:\\users\\ino\\anaconda3\\envs\\rpa_proj\\lib\\site-packages (from torch>=1.8.0->-r requirements.txt (line 15)) (3.3)\n",
      "Requirement already satisfied: jinja2 in c:\\users\\ino\\anaconda3\\envs\\rpa_proj\\lib\\site-packages (from torch>=1.8.0->-r requirements.txt (line 15)) (3.1.4)\n",
      "Requirement already satisfied: fsspec in c:\\users\\ino\\anaconda3\\envs\\rpa_proj\\lib\\site-packages (from torch>=1.8.0->-r requirements.txt (line 15)) (2024.6.1)\n",
      "Requirement already satisfied: colorama in c:\\users\\ino\\anaconda3\\envs\\rpa_proj\\lib\\site-packages (from tqdm>=4.64.0->-r requirements.txt (line 17)) (0.4.6)\n",
      "Requirement already satisfied: py-cpuinfo in c:\\users\\ino\\anaconda3\\envs\\rpa_proj\\lib\\site-packages (from ultralytics>=8.2.34->-r requirements.txt (line 18)) (9.0.0)\n",
      "Requirement already satisfied: ultralytics-thop>=2.0.0 in c:\\users\\ino\\anaconda3\\envs\\rpa_proj\\lib\\site-packages (from ultralytics>=8.2.34->-r requirements.txt (line 18)) (2.0.0)\n",
      "Requirement already satisfied: pytz>=2020.1 in c:\\users\\ino\\anaconda3\\envs\\rpa_proj\\lib\\site-packages (from pandas>=1.1.4->-r requirements.txt (line 27)) (2024.1)\n",
      "Requirement already satisfied: tzdata>=2022.7 in c:\\users\\ino\\anaconda3\\envs\\rpa_proj\\lib\\site-packages (from pandas>=1.1.4->-r requirements.txt (line 27)) (2024.1)\n",
      "Requirement already satisfied: smmap<6,>=3.0.1 in c:\\users\\ino\\anaconda3\\envs\\rpa_proj\\lib\\site-packages (from gitdb<5,>=4.0.1->gitpython>=3.1.30->-r requirements.txt (line 5)) (5.0.1)\n",
      "Requirement already satisfied: six>=1.5 in c:\\users\\ino\\anaconda3\\envs\\rpa_proj\\lib\\site-packages (from python-dateutil>=2.7->matplotlib>=3.3->-r requirements.txt (line 6)) (1.16.0)\n",
      "Requirement already satisfied: MarkupSafe>=2.0 in c:\\users\\ino\\anaconda3\\envs\\rpa_proj\\lib\\site-packages (from jinja2->torch>=1.8.0->-r requirements.txt (line 15)) (2.1.5)\n",
      "Requirement already satisfied: mpmath<1.4,>=1.1.0 in c:\\users\\ino\\anaconda3\\envs\\rpa_proj\\lib\\site-packages (from sympy->torch>=1.8.0->-r requirements.txt (line 15)) (1.3.0)\n"
     ]
    }
   ],
   "source": [
    "#!pip install -r requirements.txt "
   ]
  },
  {
   "cell_type": "code",
   "execution_count": 14,
   "metadata": {},
   "outputs": [
    {
     "ename": "OSError",
     "evalue": "[WinError 126] 지정된 모듈을 찾을 수 없습니다. Error loading \"c:\\Users\\Ino\\anaconda3\\envs\\RPA_proj\\Lib\\site-packages\\torch\\lib\\fbgemm.dll\" or one of its dependencies.",
     "output_type": "error",
     "traceback": [
      "\u001b[1;31m---------------------------------------------------------------------------\u001b[0m",
      "\u001b[1;31mOSError\u001b[0m                                   Traceback (most recent call last)",
      "Cell \u001b[1;32mIn[14], line 3\u001b[0m\n\u001b[0;32m      1\u001b[0m \u001b[38;5;28;01mimport\u001b[39;00m \u001b[38;5;21;01mcv2\u001b[39;00m\n\u001b[0;32m      2\u001b[0m \u001b[38;5;28;01mimport\u001b[39;00m \u001b[38;5;21;01mnumpy\u001b[39;00m \u001b[38;5;28;01mas\u001b[39;00m \u001b[38;5;21;01mnp\u001b[39;00m\n\u001b[1;32m----> 3\u001b[0m \u001b[38;5;28;01mimport\u001b[39;00m \u001b[38;5;21;01mtorch\u001b[39;00m \u001b[38;5;28;01mas\u001b[39;00m \u001b[38;5;21;01mnn\u001b[39;00m\n",
      "File \u001b[1;32mc:\\Users\\Ino\\anaconda3\\envs\\RPA_proj\\Lib\\site-packages\\torch\\__init__.py:148\u001b[0m\n\u001b[0;32m    146\u001b[0m                 err \u001b[38;5;241m=\u001b[39m ctypes\u001b[38;5;241m.\u001b[39mWinError(ctypes\u001b[38;5;241m.\u001b[39mget_last_error())\n\u001b[0;32m    147\u001b[0m                 err\u001b[38;5;241m.\u001b[39mstrerror \u001b[38;5;241m+\u001b[39m\u001b[38;5;241m=\u001b[39m \u001b[38;5;124mf\u001b[39m\u001b[38;5;124m'\u001b[39m\u001b[38;5;124m Error loading \u001b[39m\u001b[38;5;124m\"\u001b[39m\u001b[38;5;132;01m{\u001b[39;00mdll\u001b[38;5;132;01m}\u001b[39;00m\u001b[38;5;124m\"\u001b[39m\u001b[38;5;124m or one of its dependencies.\u001b[39m\u001b[38;5;124m'\u001b[39m\n\u001b[1;32m--> 148\u001b[0m                 \u001b[38;5;28;01mraise\u001b[39;00m err\n\u001b[0;32m    150\u001b[0m     kernel32\u001b[38;5;241m.\u001b[39mSetErrorMode(prev_error_mode)\n\u001b[0;32m    153\u001b[0m \u001b[38;5;28;01mdef\u001b[39;00m \u001b[38;5;21m_preload_cuda_deps\u001b[39m(lib_folder, lib_name):\n",
      "\u001b[1;31mOSError\u001b[0m: [WinError 126] 지정된 모듈을 찾을 수 없습니다. Error loading \"c:\\Users\\Ino\\anaconda3\\envs\\RPA_proj\\Lib\\site-packages\\torch\\lib\\fbgemm.dll\" or one of its dependencies."
     ]
    }
   ],
   "source": [
    "import cv2\n",
    "import numpy as np\n",
    "import torch as nn"
   ]
  },
  {
   "cell_type": "code",
   "execution_count": 3,
   "metadata": {},
   "outputs": [
    {
     "name": "stdout",
     "output_type": "stream",
     "text": [
      "c:\\Dev\\RPA_proj_main\\Obj_detection_model\\yolov5\n"
     ]
    },
    {
     "data": {
      "text/plain": [
       "'c:\\\\Dev\\\\RPA_proj_main\\\\Obj_detection_model\\\\yolov5'"
      ]
     },
     "execution_count": 3,
     "metadata": {},
     "output_type": "execute_result"
    }
   ],
   "source": [
    "%cd yolov5\n",
    "%pwd"
   ]
  },
  {
   "cell_type": "code",
   "execution_count": 5,
   "metadata": {},
   "outputs": [
    {
     "name": "stderr",
     "output_type": "stream",
     "text": [
      "\u001b[34m\u001b[1mdetect: \u001b[0mweights=['yolov5s.pt'], source=../../dataset/detection_sample/, data=data\\coco128.yaml, imgsz=[640, 640], conf_thres=0.25, iou_thres=0.45, max_det=1000, device=, view_img=False, save_txt=True, save_csv=False, save_conf=False, save_crop=False, nosave=False, classes=None, agnostic_nms=False, augment=False, visualize=False, update=False, project=runs\\detect, name=exp, exist_ok=False, line_thickness=3, hide_labels=False, hide_conf=False, half=False, dnn=False, vid_stride=1\n",
      "YOLOv5  2024-7-31 Python-3.11.8 torch-2.4.0+cpu CPU\n",
      "\n",
      "Fusing layers... \n",
      "YOLOv5s summary: 213 layers, 7225885 parameters, 0 gradients, 16.4 GFLOPs\n",
      "image 1/100 C:\\Dev\\RPA_proj_main\\dataset\\detection_sample\\long_cotton_0.jpg: 640x544 (no detections), 199.3ms\n",
      "image 2/100 C:\\Dev\\RPA_proj_main\\dataset\\detection_sample\\long_cotton_1.jpg: 640x544 (no detections), 192.5ms\n",
      "image 3/100 C:\\Dev\\RPA_proj_main\\dataset\\detection_sample\\long_cotton_10.jpg: 640x544 1 person, 182.8ms\n",
      "image 4/100 C:\\Dev\\RPA_proj_main\\dataset\\detection_sample\\long_cotton_11.jpg: 640x544 (no detections), 185.8ms\n",
      "image 5/100 C:\\Dev\\RPA_proj_main\\dataset\\detection_sample\\long_cotton_12.jpg: 640x544 1 person, 190.2ms\n",
      "image 6/100 C:\\Dev\\RPA_proj_main\\dataset\\detection_sample\\long_cotton_13.jpg: 640x544 1 person, 188.6ms\n",
      "image 7/100 C:\\Dev\\RPA_proj_main\\dataset\\detection_sample\\long_cotton_14.jpg: 640x544 1 person, 5 books, 193.5ms\n",
      "image 8/100 C:\\Dev\\RPA_proj_main\\dataset\\detection_sample\\long_cotton_15.jpg: 640x544 1 person, 183.0ms\n",
      "image 9/100 C:\\Dev\\RPA_proj_main\\dataset\\detection_sample\\long_cotton_16.jpg: 640x576 (no detections), 215.4ms\n",
      "image 10/100 C:\\Dev\\RPA_proj_main\\dataset\\detection_sample\\long_cotton_17.jpg: 640x544 1 surfboard, 184.0ms\n",
      "image 11/100 C:\\Dev\\RPA_proj_main\\dataset\\detection_sample\\long_cotton_18.jpg: 640x544 (no detections), 204.0ms\n",
      "image 12/100 C:\\Dev\\RPA_proj_main\\dataset\\detection_sample\\long_cotton_19.jpg: 640x544 1 person, 189.5ms\n",
      "image 13/100 C:\\Dev\\RPA_proj_main\\dataset\\detection_sample\\long_cotton_2.jpg: 640x544 1 person, 187.6ms\n",
      "image 14/100 C:\\Dev\\RPA_proj_main\\dataset\\detection_sample\\long_cotton_20.jpg: 640x544 1 person, 195.1ms\n",
      "image 15/100 C:\\Dev\\RPA_proj_main\\dataset\\detection_sample\\long_cotton_21.jpg: 640x544 1 person, 184.6ms\n",
      "image 16/100 C:\\Dev\\RPA_proj_main\\dataset\\detection_sample\\long_cotton_22.jpg: 640x544 1 person, 195.8ms\n",
      "image 17/100 C:\\Dev\\RPA_proj_main\\dataset\\detection_sample\\long_cotton_23.jpg: 640x544 1 person, 184.2ms\n",
      "image 18/100 C:\\Dev\\RPA_proj_main\\dataset\\detection_sample\\long_cotton_24.jpg: 640x544 1 person, 187.3ms\n",
      "image 19/100 C:\\Dev\\RPA_proj_main\\dataset\\detection_sample\\long_cotton_25.jpg: 640x544 1 person, 204.9ms\n",
      "image 20/100 C:\\Dev\\RPA_proj_main\\dataset\\detection_sample\\long_cotton_26.jpg: 640x544 1 person, 190.2ms\n",
      "image 21/100 C:\\Dev\\RPA_proj_main\\dataset\\detection_sample\\long_cotton_27.jpg: 640x544 (no detections), 209.6ms\n",
      "image 22/100 C:\\Dev\\RPA_proj_main\\dataset\\detection_sample\\long_cotton_28.jpg: 640x544 (no detections), 186.0ms\n",
      "image 23/100 C:\\Dev\\RPA_proj_main\\dataset\\detection_sample\\long_cotton_29.jpg: 640x544 1 person, 1 tie, 186.4ms\n",
      "image 24/100 C:\\Dev\\RPA_proj_main\\dataset\\detection_sample\\long_cotton_3.jpg: 640x576 1 person, 197.0ms\n",
      "image 25/100 C:\\Dev\\RPA_proj_main\\dataset\\detection_sample\\long_cotton_30.jpg: 640x544 1 person, 187.9ms\n",
      "image 26/100 C:\\Dev\\RPA_proj_main\\dataset\\detection_sample\\long_cotton_31.jpg: 640x544 (no detections), 193.1ms\n",
      "image 27/100 C:\\Dev\\RPA_proj_main\\dataset\\detection_sample\\long_cotton_32.jpg: 640x544 1 person, 196.7ms\n",
      "image 28/100 C:\\Dev\\RPA_proj_main\\dataset\\detection_sample\\long_cotton_33.jpg: 640x544 (no detections), 198.5ms\n",
      "image 29/100 C:\\Dev\\RPA_proj_main\\dataset\\detection_sample\\long_cotton_34.jpg: 640x544 1 person, 182.2ms\n",
      "image 30/100 C:\\Dev\\RPA_proj_main\\dataset\\detection_sample\\long_cotton_35.jpg: 640x544 1 person, 184.2ms\n",
      "image 31/100 C:\\Dev\\RPA_proj_main\\dataset\\detection_sample\\long_cotton_36.jpg: 640x544 (no detections), 183.8ms\n",
      "image 32/100 C:\\Dev\\RPA_proj_main\\dataset\\detection_sample\\long_cotton_37.jpg: 640x544 1 person, 185.7ms\n",
      "image 33/100 C:\\Dev\\RPA_proj_main\\dataset\\detection_sample\\long_cotton_38.jpg: 640x544 1 person, 185.2ms\n",
      "image 34/100 C:\\Dev\\RPA_proj_main\\dataset\\detection_sample\\long_cotton_39.jpg: 640x544 1 person, 187.0ms\n",
      "image 35/100 C:\\Dev\\RPA_proj_main\\dataset\\detection_sample\\long_cotton_4.jpg: 640x544 (no detections), 201.9ms\n",
      "image 36/100 C:\\Dev\\RPA_proj_main\\dataset\\detection_sample\\long_cotton_40.jpg: 640x544 (no detections), 180.4ms\n",
      "image 37/100 C:\\Dev\\RPA_proj_main\\dataset\\detection_sample\\long_cotton_41.jpg: 640x544 1 person, 181.5ms\n",
      "image 38/100 C:\\Dev\\RPA_proj_main\\dataset\\detection_sample\\long_cotton_42.jpg: 640x544 (no detections), 190.0ms\n",
      "image 39/100 C:\\Dev\\RPA_proj_main\\dataset\\detection_sample\\long_cotton_43.jpg: 640x544 1 person, 181.0ms\n",
      "image 40/100 C:\\Dev\\RPA_proj_main\\dataset\\detection_sample\\long_cotton_44.jpg: 640x544 1 person, 193.6ms\n",
      "image 41/100 C:\\Dev\\RPA_proj_main\\dataset\\detection_sample\\long_cotton_45.jpg: 640x544 1 person, 204.4ms\n",
      "image 42/100 C:\\Dev\\RPA_proj_main\\dataset\\detection_sample\\long_cotton_46.jpg: 640x544 1 person, 181.7ms\n",
      "image 43/100 C:\\Dev\\RPA_proj_main\\dataset\\detection_sample\\long_cotton_47.jpg: 640x544 (no detections), 184.1ms\n",
      "image 44/100 C:\\Dev\\RPA_proj_main\\dataset\\detection_sample\\long_cotton_48.jpg: 640x544 1 person, 195.3ms\n",
      "image 45/100 C:\\Dev\\RPA_proj_main\\dataset\\detection_sample\\long_cotton_49.jpg: 640x544 1 person, 193.3ms\n",
      "image 46/100 C:\\Dev\\RPA_proj_main\\dataset\\detection_sample\\long_cotton_5.jpg: 640x576 4 persons, 220.5ms\n",
      "image 47/100 C:\\Dev\\RPA_proj_main\\dataset\\detection_sample\\long_cotton_50.jpg: 640x544 1 person, 216.5ms\n",
      "image 48/100 C:\\Dev\\RPA_proj_main\\dataset\\detection_sample\\long_cotton_51.jpg: 640x576 (no detections), 198.9ms\n",
      "image 49/100 C:\\Dev\\RPA_proj_main\\dataset\\detection_sample\\long_cotton_52.jpg: 640x544 1 person, 190.8ms\n",
      "image 50/100 C:\\Dev\\RPA_proj_main\\dataset\\detection_sample\\long_cotton_53.jpg: 640x544 1 person, 183.9ms\n",
      "image 51/100 C:\\Dev\\RPA_proj_main\\dataset\\detection_sample\\long_cotton_54.jpg: 640x544 1 person, 189.3ms\n",
      "image 52/100 C:\\Dev\\RPA_proj_main\\dataset\\detection_sample\\long_cotton_55.jpg: 640x544 1 person, 185.4ms\n",
      "image 53/100 C:\\Dev\\RPA_proj_main\\dataset\\detection_sample\\long_cotton_56.jpg: 640x544 1 person, 184.6ms\n",
      "image 54/100 C:\\Dev\\RPA_proj_main\\dataset\\detection_sample\\long_cotton_57.jpg: 640x544 1 person, 184.2ms\n",
      "image 55/100 C:\\Dev\\RPA_proj_main\\dataset\\detection_sample\\long_cotton_58.jpg: 640x544 1 person, 179.4ms\n",
      "image 56/100 C:\\Dev\\RPA_proj_main\\dataset\\detection_sample\\long_cotton_59.jpg: 640x544 (no detections), 191.0ms\n",
      "image 57/100 C:\\Dev\\RPA_proj_main\\dataset\\detection_sample\\long_cotton_6.jpg: 640x544 1 person, 182.6ms\n",
      "image 58/100 C:\\Dev\\RPA_proj_main\\dataset\\detection_sample\\long_cotton_60.jpg: 640x544 1 person, 185.8ms\n",
      "image 59/100 C:\\Dev\\RPA_proj_main\\dataset\\detection_sample\\long_cotton_61.jpg: 640x544 1 person, 184.7ms\n",
      "image 60/100 C:\\Dev\\RPA_proj_main\\dataset\\detection_sample\\long_cotton_62.jpg: 640x544 (no detections), 183.0ms\n",
      "image 61/100 C:\\Dev\\RPA_proj_main\\dataset\\detection_sample\\long_cotton_63.jpg: 640x544 1 person, 1 tie, 193.0ms\n",
      "image 62/100 C:\\Dev\\RPA_proj_main\\dataset\\detection_sample\\long_cotton_64.jpg: 640x544 1 person, 183.5ms\n",
      "image 63/100 C:\\Dev\\RPA_proj_main\\dataset\\detection_sample\\long_cotton_65.jpg: 640x544 1 person, 183.3ms\n",
      "image 64/100 C:\\Dev\\RPA_proj_main\\dataset\\detection_sample\\long_cotton_66.jpg: 640x544 1 person, 180.7ms\n",
      "image 65/100 C:\\Dev\\RPA_proj_main\\dataset\\detection_sample\\long_cotton_67.jpg: 640x544 1 person, 185.0ms\n",
      "image 66/100 C:\\Dev\\RPA_proj_main\\dataset\\detection_sample\\long_cotton_68.jpg: 640x544 1 person, 189.6ms\n",
      "image 67/100 C:\\Dev\\RPA_proj_main\\dataset\\detection_sample\\long_cotton_69.jpg: 640x544 1 person, 187.6ms\n",
      "image 68/100 C:\\Dev\\RPA_proj_main\\dataset\\detection_sample\\long_cotton_7.jpg: 640x544 1 person, 189.3ms\n",
      "image 69/100 C:\\Dev\\RPA_proj_main\\dataset\\detection_sample\\long_cotton_70.jpg: 640x544 1 person, 183.9ms\n",
      "image 70/100 C:\\Dev\\RPA_proj_main\\dataset\\detection_sample\\long_cotton_71.jpg: 640x544 1 person, 187.7ms\n",
      "image 71/100 C:\\Dev\\RPA_proj_main\\dataset\\detection_sample\\long_cotton_72.jpg: 640x544 1 person, 186.2ms\n",
      "image 72/100 C:\\Dev\\RPA_proj_main\\dataset\\detection_sample\\long_cotton_73.jpg: 640x544 1 person, 186.3ms\n",
      "image 73/100 C:\\Dev\\RPA_proj_main\\dataset\\detection_sample\\long_cotton_74.jpg: 640x544 1 person, 189.5ms\n",
      "image 74/100 C:\\Dev\\RPA_proj_main\\dataset\\detection_sample\\long_cotton_75.jpg: 640x544 1 person, 191.0ms\n",
      "image 75/100 C:\\Dev\\RPA_proj_main\\dataset\\detection_sample\\long_cotton_76.jpg: 640x544 1 person, 182.0ms\n",
      "image 76/100 C:\\Dev\\RPA_proj_main\\dataset\\detection_sample\\long_cotton_77.jpg: 640x544 (no detections), 180.1ms\n",
      "image 77/100 C:\\Dev\\RPA_proj_main\\dataset\\detection_sample\\long_cotton_78.jpg: 640x544 1 person, 190.5ms\n",
      "image 78/100 C:\\Dev\\RPA_proj_main\\dataset\\detection_sample\\long_cotton_79.jpg: 640x544 1 person, 187.6ms\n",
      "image 79/100 C:\\Dev\\RPA_proj_main\\dataset\\detection_sample\\long_cotton_8.jpg: 640x544 (no detections), 182.4ms\n",
      "image 80/100 C:\\Dev\\RPA_proj_main\\dataset\\detection_sample\\long_cotton_80.jpg: 640x544 1 person, 190.6ms\n",
      "image 81/100 C:\\Dev\\RPA_proj_main\\dataset\\detection_sample\\long_cotton_81.jpg: 640x544 1 person, 185.4ms\n",
      "image 82/100 C:\\Dev\\RPA_proj_main\\dataset\\detection_sample\\long_cotton_82.jpg: 640x544 1 tie, 183.2ms\n",
      "image 83/100 C:\\Dev\\RPA_proj_main\\dataset\\detection_sample\\long_cotton_83.jpg: 640x544 1 person, 192.6ms\n",
      "image 84/100 C:\\Dev\\RPA_proj_main\\dataset\\detection_sample\\long_cotton_84.jpg: 640x544 1 person, 185.1ms\n",
      "image 85/100 C:\\Dev\\RPA_proj_main\\dataset\\detection_sample\\long_cotton_85.jpg: 640x544 1 person, 189.5ms\n",
      "image 86/100 C:\\Dev\\RPA_proj_main\\dataset\\detection_sample\\long_cotton_86.jpg: 640x512 (no detections), 182.9ms\n",
      "image 87/100 C:\\Dev\\RPA_proj_main\\dataset\\detection_sample\\long_cotton_87.jpg: 640x544 (no detections), 185.3ms\n",
      "image 88/100 C:\\Dev\\RPA_proj_main\\dataset\\detection_sample\\long_cotton_88.jpg: 640x544 1 person, 184.3ms\n",
      "image 89/100 C:\\Dev\\RPA_proj_main\\dataset\\detection_sample\\long_cotton_89.jpg: 640x544 1 person, 188.7ms\n",
      "image 90/100 C:\\Dev\\RPA_proj_main\\dataset\\detection_sample\\long_cotton_9.jpg: 640x544 (no detections), 185.5ms\n",
      "image 91/100 C:\\Dev\\RPA_proj_main\\dataset\\detection_sample\\long_cotton_90.jpg: 640x544 (no detections), 184.3ms\n",
      "image 92/100 C:\\Dev\\RPA_proj_main\\dataset\\detection_sample\\long_cotton_91.jpg: 640x544 1 person, 1 clock, 199.3ms\n",
      "image 93/100 C:\\Dev\\RPA_proj_main\\dataset\\detection_sample\\long_cotton_92.jpg: 640x544 1 person, 181.2ms\n",
      "image 94/100 C:\\Dev\\RPA_proj_main\\dataset\\detection_sample\\long_cotton_93.jpg: 640x544 1 person, 180.3ms\n",
      "image 95/100 C:\\Dev\\RPA_proj_main\\dataset\\detection_sample\\long_cotton_94.jpg: 640x544 1 person, 192.5ms\n",
      "image 96/100 C:\\Dev\\RPA_proj_main\\dataset\\detection_sample\\long_cotton_95.jpg: 640x544 1 tie, 182.9ms\n",
      "image 97/100 C:\\Dev\\RPA_proj_main\\dataset\\detection_sample\\long_cotton_96.jpg: 640x544 1 person, 190.3ms\n",
      "image 98/100 C:\\Dev\\RPA_proj_main\\dataset\\detection_sample\\long_cotton_97.jpg: 640x544 (no detections), 183.4ms\n",
      "image 99/100 C:\\Dev\\RPA_proj_main\\dataset\\detection_sample\\long_cotton_98.jpg: 640x544 1 person, 185.7ms\n",
      "image 100/100 C:\\Dev\\RPA_proj_main\\dataset\\detection_sample\\long_cotton_99.jpg: 640x544 1 person, 1 tie, 189.4ms\n",
      "Speed: 0.9ms pre-process, 189.1ms inference, 0.7ms NMS per image at shape (1, 3, 640, 640)\n",
      "Results saved to \u001b[1mruns\\detect\\exp\u001b[0m\n",
      "76 labels saved to runs\\detect\\exp\\labels\n"
     ]
    }
   ],
   "source": [
    "!python detect.py --weight yolov5s.pt --source ../../dataset/detection_sample/ --save-txt"
   ]
  }
 ],
 "metadata": {
  "kernelspec": {
   "display_name": "RPA_proj",
   "language": "python",
   "name": "python3"
  },
  "language_info": {
   "codemirror_mode": {
    "name": "ipython",
    "version": 3
   },
   "file_extension": ".py",
   "mimetype": "text/x-python",
   "name": "python",
   "nbconvert_exporter": "python",
   "pygments_lexer": "ipython3",
   "version": "3.11.8"
  }
 },
 "nbformat": 4,
 "nbformat_minor": 2
}
