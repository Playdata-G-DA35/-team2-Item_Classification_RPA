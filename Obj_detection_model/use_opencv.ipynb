{
 "cells": [
  {
   "cell_type": "code",
   "execution_count": 50,
   "metadata": {},
   "outputs": [],
   "source": [
    "import cv2\n",
    "import numpy as np"
   ]
  },
  {
   "cell_type": "code",
   "execution_count": 95,
   "metadata": {},
   "outputs": [],
   "source": [
    "def make_bbox(img_path):\n",
    "    img = cv2.imread(img_path, cv2.IMREAD_GRAYSCALE)\n",
    "    #img_gray = cv2.cvtColor(img, cv2.COLOR_BGR2GRAY)\n",
    "    img_gray = img\n",
    "\n",
    "    rect, thr = cv2.threshold(img_gray, 200, 255, 0)\n",
    "    contours, _ = cv2.findContours(thr, cv2.RETR_TREE, cv2.CHAIN_APPROX_SIMPLE)\n",
    "\n",
    "    print(contours)\n",
    "    cnt = contours[5]\n",
    "\n",
    "    x, y, w, h = cv2.boundingRect(cnt)\n",
    "    cv2.rectangle(img, (x, y), (x + w, y + h), (0, 0, 255), 3)\n",
    "\n",
    "    rect = cv2.minAreaRect(cnt)\n",
    "    box = cv2.boxPoints(rect)\n",
    "    box = np.int0(box)\n",
    "\n",
    "    cv2.drawContours(img, [box], 0, (0, 255, 0), 3)\n",
    "\n",
    "    thr = cv2.resize(thr, dsize=(500, 500))\n",
    "    img = cv2.resize(img, dsize=(500, 500))\n",
    "\n",
    "    cv2.imshow('thr', thr)\n",
    "    cv2.imshow('rectangle', img)\n",
    "    cv2.waitKey(0)\n",
    "    cv2.destroyAllWindows()"
   ]
  },
  {
   "cell_type": "code",
   "execution_count": 96,
   "metadata": {},
   "outputs": [
    {
     "name": "stdout",
     "output_type": "stream",
     "text": [
      "(array([[[  0,   0]],\n",
      "\n",
      "       [[  0, 935]],\n",
      "\n",
      "       [[779, 935]],\n",
      "\n",
      "       [[779,   0]]], dtype=int32), array([[[219,  54]],\n",
      "\n",
      "       [[220,  53]],\n",
      "\n",
      "       [[226,  53]],\n",
      "\n",
      "       ...,\n",
      "\n",
      "       [[214,  55]],\n",
      "\n",
      "       [[215,  55]],\n",
      "\n",
      "       [[216,  54]]], dtype=int32), array([[[593, 912]],\n",
      "\n",
      "       [[593, 913]]], dtype=int32), array([[[591, 912]]], dtype=int32), array([[[588, 910]]], dtype=int32), array([[[593, 907]],\n",
      "\n",
      "       [[593, 908]]], dtype=int32), array([[[583, 906]]], dtype=int32), array([[[579, 906]],\n",
      "\n",
      "       [[580, 906]]], dtype=int32), array([[[471, 905]]], dtype=int32), array([[[220, 899]]], dtype=int32))\n"
     ]
    },
    {
     "name": "stderr",
     "output_type": "stream",
     "text": [
      "C:\\Users\\Ino\\AppData\\Local\\Temp\\ipykernel_4172\\1282744257.py:17: DeprecationWarning: `np.int0` is a deprecated alias for `np.intp`.  (Deprecated NumPy 1.24)\n",
      "  box = np.int0(box)\n"
     ]
    }
   ],
   "source": [
    "index = 96\n",
    "img_path =f'../dataset/detection_sample/long_cotton_{index}.jpg' \n",
    "make_bbox(img_path)"
   ]
  }
 ],
 "metadata": {
  "kernelspec": {
   "display_name": "RPA_proj",
   "language": "python",
   "name": "python3"
  },
  "language_info": {
   "codemirror_mode": {
    "name": "ipython",
    "version": 3
   },
   "file_extension": ".py",
   "mimetype": "text/x-python",
   "name": "python",
   "nbconvert_exporter": "python",
   "pygments_lexer": "ipython3",
   "version": "3.11.8"
  }
 },
 "nbformat": 4,
 "nbformat_minor": 2
}
