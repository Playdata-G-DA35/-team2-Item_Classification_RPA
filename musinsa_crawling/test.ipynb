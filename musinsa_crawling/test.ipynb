{
 "cells": [
  {
   "cell_type": "code",
   "execution_count": null,
   "metadata": {},
   "outputs": [],
   "source": [
    "import os\n",
    "import time\n",
    "import requests\n",
    "import multiprocessing\n",
    "import method\n",
    "from selenium import webdriver\n",
    "from selenium.webdriver.chrome.service import Service\n",
    "from selenium.webdriver.common.by import By\n",
    "from selenium.webdriver.support.ui import WebDriverWait\n",
    "from selenium.webdriver.support import expected_conditions as EC\n",
    "from selenium.webdriver.chrome.options import Options\n",
    "from selenium.webdriver.common.keys import Keys\n",
    "from webdriver_manager.chrome import ChromeDriverManager"
   ]
  },
  {
   "cell_type": "code",
   "execution_count": null,
   "metadata": {},
   "outputs": [],
   "source": [
    "url = 'https://www.musinsa.com/categories/item/001002?device=mw'\n",
    "driver = webdriver.Chrome(service=Service())\n",
    "driver.get(url)\n",
    "wait = WebDriverWait(driver, 3)"
   ]
  },
  {
   "cell_type": "code",
   "execution_count": null,
   "metadata": {},
   "outputs": [],
   "source": [
    "save_path = '../dataset/top/sample/'"
   ]
  },
  {
   "cell_type": "code",
   "execution_count": null,
   "metadata": {},
   "outputs": [],
   "source": [
    "srcs = []\n",
    "#item_elements = wait.until(EC.presence_of_all_elements_located((By.XPATH, '//*[@id=\"thumb|3076589\"]')))\n",
    "item_elements = driver.find_elements(By.XPATH, '//*[@id=\"root\"]/main/div/section[3]/div[1]//img')\n",
    "print(type(item_elements))\n",
    "print(len(item_elements))\n",
    "\n",
    "for item in item_elements:\n",
    "    srcs.append(item.get_attribute('src'))\n",
    "print(len(srcs))\n",
    "print(srcs[:3])\n",
    "\n",
    "#print(srcs)\n",
    "#img = requests.get(srcs[0])\n",
    "#img_path = '../dataset/1.jpg'\n",
    "#with open(img_path, 'wb')as img_file:\n",
    "#    img_file.write(img.content)\n",
    "\n",
    "#img_path = '../dataset/sample/'\n",
    "#index = 0\n",
    "#for src in srcs:\n",
    "#    img = requests.get(src)\n",
    "#    filepath = os.path.join(img_path, f'{index}.jpg')\n",
    "#    with open(filepath, 'wb') as img_file:\n",
    "#        img_file.write(img.content)\n",
    "#        index += 1\n",
    "\n",
    "# method.download_image(item.get_attribute('src'), '../dataset/top/shirts/')"
   ]
  },
  {
   "cell_type": "code",
   "execution_count": null,
   "metadata": {},
   "outputs": [],
   "source": [
    "# 리스트 중복 검사\n",
    "def jungbok(li_a, li_b):\n",
    "    count = 0\n",
    "    for a in li_a:\n",
    "        if(a in li_b):\n",
    "            count += 1\n",
    "    print('overlapping count is', count)"
   ]
  },
  {
   "cell_type": "code",
   "execution_count": null,
   "metadata": {},
   "outputs": [],
   "source": [
    "srcs = []\n",
    "item_elements1 = wait.until(EC.presence_of_all_elements_located((By.CLASS_NAME, \"category__sc-rb2kzk-9.eSSKjG\")))\n",
    "#item_elements1 = driver.find_elements(By.CLASS_NAME, \"category__sc-rb2kzk-9.eSSKjG\")\n",
    "print(len(item_elements1))\n",
    "\n",
    "for item in item_elements1:\n",
    "    srcs.append(item.get_attribute('src'))"
   ]
  },
  {
   "cell_type": "code",
   "execution_count": null,
   "metadata": {},
   "outputs": [],
   "source": []
  },
  {
   "cell_type": "code",
   "execution_count": null,
   "metadata": {},
   "outputs": [],
   "source": [
    "#print(len(srcs))\n",
    "print(srcs[-9:])"
   ]
  },
  {
   "cell_type": "code",
   "execution_count": null,
   "metadata": {},
   "outputs": [],
   "source": [
    "# 페이지 스크롤\n",
    "driver.execute_script(\"window.scrollBy(0, 16500);\")"
   ]
  },
  {
   "cell_type": "code",
   "execution_count": null,
   "metadata": {},
   "outputs": [],
   "source": [
    "srcs2 = []\n",
    "#item_elements = wait.until(EC.presence_of_all_elements_located((By.XPATH, '//*[@id=\"thumb|3076589\"]')))\n",
    "item_elements2 = driver.find_elements(By.CLASS_NAME, \"category__sc-rb2kzk-9.eSSKjG\")\n",
    "\n",
    "for item in item_elements2:\n",
    "    srcs2.append(item.get_attribute('src'))\n",
    "\n",
    "jungbok(srcs, srcs2)"
   ]
  },
  {
   "cell_type": "code",
   "execution_count": null,
   "metadata": {},
   "outputs": [],
   "source": [
    "print(srcs2[:10])"
   ]
  },
  {
   "cell_type": "code",
   "execution_count": null,
   "metadata": {},
   "outputs": [],
   "source": [
    "img_path = '../dataset/sample/'\n",
    "index = 0\n",
    "for src in srcs[-20:-4]:\n",
    "    img = requests.get(src)\n",
    "    filepath = os.path.join(img_path, f'{index}.jpg')\n",
    "    with open(filepath, 'wb') as img_file:\n",
    "        img_file.write(img.content)\n",
    "        index += 1"
   ]
  },
  {
   "cell_type": "code",
   "execution_count": 393,
   "metadata": {},
   "outputs": [],
   "source": [
    "def get_images_by_scrolling(url, max_num, save_path, cat_name):\n",
    "    # 저장 경로 설정\n",
    "    save_path = f'{save_path}{cat_name}/'\n",
    "    print(save_path)\n",
    "    if not os.path.exists(os.path.dirname(save_path)):\n",
    "        os.makedirs(os.path.dirname(save_path))\n",
    "\n",
    "    driver = webdriver.Chrome(service=Service())\n",
    "    driver.get(url)\n",
    "    wait = WebDriverWait(driver, 10)\n",
    "\n",
    "    define_list = []\n",
    "    while True:\n",
    "        # end 입력\n",
    "        #action = driver.find_element(By.TAG_NAME, 'body')\n",
    "        #action.send_keys(Keys.END)\n",
    "        #time.sleep(3)\n",
    "\n",
    "\n",
    "        # scroll\n",
    "        driver.execute_script(\"window.scrollBy(0, 8000);\")\n",
    "        time.sleep(2)\n",
    "\n",
    "        # 개수가 max_num 이하면 리스트 비움\n",
    "        item_elements = driver.find_elements(By.CLASS_NAME, \"category__sc-rb2kzk-9.eSSKjG\")\n",
    "\n",
    "        overlap_list = []\n",
    "        src_list = []\n",
    "        for item in item_elements:\n",
    "            src = item.get_attribute('src')\n",
    "            if src not in define_list:\n",
    "                define_list.append(src)\n",
    "            else:\n",
    "                overlap_list.append(src)\n",
    "\n",
    "        # 개수 확인을 위한 print\n",
    "        #print('num of src', len(define_list), ', num of overlap src', len(overlap_list), ', num of elements', len(item_elements))\n",
    "        if(len(define_list) > max_num):\n",
    "            print('final num of src is', len(define_list))\n",
    "            break\n",
    "    \n",
    "    index = 0\n",
    "    for src in define_list[:max_num]:\n",
    "        img = requests.get(src)\n",
    "        #filepath = os.path.join(save_path, f'{cat_name}_{index}.jpg')\n",
    "        filepath = f'{save_path}{cat_name}_{index}.jpg'\n",
    "        with open(filepath, 'wb') as img_file:\n",
    "            img_file.write(img.content)\n",
    "            index += 1       \n",
    "\n",
    "    driver.quit()"
   ]
  },
  {
   "cell_type": "code",
   "execution_count": 395,
   "metadata": {},
   "outputs": [
    {
     "name": "stdout",
     "output_type": "stream",
     "text": [
      "../dataset/sample/shirts/\n",
      "num of src 120 , num of overlap src 0 , num of elements 120\n",
      "num of src 180 , num of overlap src 60 , num of elements 120\n",
      "num of src 240 , num of overlap src 60 , num of elements 120\n",
      "final num of src is 240\n"
     ]
    }
   ],
   "source": [
    "get_images_by_scrolling(url, 200, '../dataset/sample/', 'shirts', 0.2)"
   ]
  }
 ],
 "metadata": {
  "kernelspec": {
   "display_name": "env02",
   "language": "python",
   "name": "python3"
  },
  "language_info": {
   "codemirror_mode": {
    "name": "ipython",
    "version": 3
   },
   "file_extension": ".py",
   "mimetype": "text/x-python",
   "name": "python",
   "nbconvert_exporter": "python",
   "pygments_lexer": "ipython3",
   "version": "3.11.8"
  }
 },
 "nbformat": 4,
 "nbformat_minor": 2
}
